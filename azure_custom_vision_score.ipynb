{
 "cells": [
  {
   "cell_type": "markdown",
   "metadata": {},
   "source": [
    "## Given an image, use Azure Custom Vision Service to classify"
   ]
  },
  {
   "cell_type": "code",
   "execution_count": 4,
   "metadata": {},
   "outputs": [],
   "source": [
    "import os\n",
    "\n",
    "# endpoint looks like 'https://{region}.api.cognitive.microsoft.com/customvision/v2.0/Prediction/{guid}/image'\n",
    "_cvendpoint = os.environ['AZURE_CUSTOM_VISION_ENDPOINT'] \n",
    "_key = os.environ['AZURE_CUSTOM_VISION_KEY']\n",
    "_content = 'application/octet-stream'\n",
    "\n",
    "_headers = dict()\n",
    "_headers['Prediction-Key'] = _key\n",
    "_headers['Content-Type'] = _content\n",
    "\n",
    "_data = open(\"/path/to/imagefile\", \"rb\").read()"
   ]
  },
  {
   "cell_type": "code",
   "execution_count": null,
   "metadata": {},
   "outputs": [],
   "source": [
    "import requests\n",
    "\n",
    "r = requests.request('post',\n",
    "        url = _cvendpoint,\n",
    "        data = _data,\n",
    "        headers = _headers)\n",
    "print (r.status_code)\n",
    "print (r.json())"
   ]
  }
 ],
 "metadata": {
  "kernelspec": {
   "display_name": "Python 3",
   "language": "python",
   "name": "python3"
  },
  "language_info": {
   "codemirror_mode": {
    "name": "ipython",
    "version": 3
   },
   "file_extension": ".py",
   "mimetype": "text/x-python",
   "name": "python",
   "nbconvert_exporter": "python",
   "pygments_lexer": "ipython3",
   "version": "3.6.7"
  }
 },
 "nbformat": 4,
 "nbformat_minor": 2
}
