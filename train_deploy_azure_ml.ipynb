{
 "cells": [
  {
   "cell_type": "code",
   "execution_count": null,
   "metadata": {},
   "outputs": [],
   "source": [
    "import os\n",
    "from os import path\n",
    "import json"
   ]
  },
  {
   "cell_type": "markdown",
   "metadata": {},
   "source": [
    "## Train the SVM model in Azure ML\n",
    "First refactor your training code to a script. See [train.py](train.py)."
   ]
  },
  {
   "cell_type": "code",
   "execution_count": null,
   "metadata": {},
   "outputs": [],
   "source": [
    "# get Azure ML workspace\n",
    "from azureml.core import Workspace, Experiment, Run, Datastore\n",
    "\n",
    "ws = Workspace.from_config(\"/path/to/aml_workspace_config.json\")\n",
    "ds = ws.get_default_datastore()\n",
    "print(ds.container_name)\n",
    "\n",
    "model_name = 'your_model_name'\n",
    "experiment_name = 'your_experiment_name'\n",
    "compute_name = 'your_training_compute_target'\n",
    "\n",
    "compute_target = ws.compute_targets[compute_name]\n",
    "\n",
    "print(\"datastore:\", ds.container_name, \", compute:\", type(compute_target))"
   ]
  },
  {
   "cell_type": "code",
   "execution_count": null,
   "metadata": {},
   "outputs": [],
   "source": [
    "from azureml.train.estimator import Estimator\n",
    "\n",
    "exp = Experiment(workspace=ws, name=experiment_name)\n",
    "\n",
    "script_folder = './'\n",
    "script_params = {\n",
    "    '--data-store': ds.as_mount(),\n",
    "    '--process-images': 'True',\n",
    "    '--target-image-size': 360,\n",
    "    '--model-name': model_name,   \n",
    "}\n",
    "\n",
    "est = Estimator(source_directory=script_folder,\n",
    "                script_params=script_params,\n",
    "                compute_target=compute_target,\n",
    "                entry_script='train.py',\n",
    "                conda_packages=['scikit-learn', 'Pillow'])\n",
    "\n",
    "run = exp.submit(config=est)"
   ]
  },
  {
   "cell_type": "code",
   "execution_count": null,
   "metadata": {},
   "outputs": [],
   "source": [
    "# get training status\n",
    "from azureml.widgets import RunDetails\n",
    "\n",
    "RunDetails(run).show()"
   ]
  },
  {
   "cell_type": "code",
   "execution_count": null,
   "metadata": {},
   "outputs": [],
   "source": [
    "# wait for training to complete, then print metrics\n",
    "run.wait_for_completion(show_output=False)\n",
    "print(run.get_metrics())"
   ]
  },
  {
   "cell_type": "markdown",
   "metadata": {},
   "source": [
    "## Download the trained model, and run some tests\n",
    "Don't put the downloaded model in the same folder as source because AML will zip the folder when submitting for training"
   ]
  },
  {
   "cell_type": "code",
   "execution_count": null,
   "metadata": {},
   "outputs": [],
   "source": [
    "import os \n",
    "import utils\n",
    "\n",
    "downloadPath = '/path/to/downloaded_models'\n",
    "os.makedirs(downloadPath, exist_ok=True)\n",
    "\n",
    "run.download_file(name='outputs/' + model_name, output_file_path=downloadPath)"
   ]
  },
  {
   "cell_type": "code",
   "execution_count": null,
   "metadata": {},
   "outputs": [],
   "source": [
    "import pickle\n",
    "from sklearn.externals import joblib\n",
    "\n",
    "testsvm = joblib.load(os.path.join(downloadPath, model_name))"
   ]
  },
  {
   "cell_type": "code",
   "execution_count": null,
   "metadata": {},
   "outputs": [],
   "source": [
    "import numpy as np\n",
    "\n",
    "img=Image.open('/path/to/test_imagefile')\n",
    "img_arr = np.array(utils.processImg(img, targetimagesize)).flatten()\n",
    "pred = testsvm.predict([img_arr])\n",
    "print(pred)"
   ]
  },
  {
   "cell_type": "markdown",
   "metadata": {},
   "source": [
    "## If the model is good, register it"
   ]
  },
  {
   "cell_type": "code",
   "execution_count": null,
   "metadata": {},
   "outputs": [],
   "source": [
    "model = run.register_model(\n",
    "    model_name=model_name, #register from outputs folder in the run\n",
    "    model_path='outputs/' + model_name, #this must match the file you output in the training script\n",
    "    tags = {\"imagesize\":script_params['--target-image-size']}) \n",
    "print(model.name, model.id, model.version, sep = ',')"
   ]
  },
  {
   "cell_type": "markdown",
   "metadata": {},
   "source": [
    "## Create a Docker image for the model\n",
    "1. Create [score.py](score.py) that implements init() and run(), it calls the model to run predictions\n",
    "2. Create [env.yml](env.yml) which contains the conda packages this model depends on"
   ]
  },
  {
   "cell_type": "code",
   "execution_count": null,
   "metadata": {},
   "outputs": [],
   "source": [
    "from azureml.core.image import ContainerImage\n",
    "\n",
    "docker_image_name = 'your_docker_image_name'\n",
    "# create a Docker image that builds a web service \n",
    "image_config = ContainerImage.image_configuration(execution_script='score.py', \n",
    "                                                  runtime='python', \n",
    "                                                  conda_file='env.yml', \n",
    "                                                  dependencies=['utils.py'], \n",
    "                                                  tags={'mltype':'svm'})\n",
    "image = ContainerImage.create(workspace=ws, \n",
    "                              name=docker_image_name, \n",
    "                              models=[model], \n",
    "                              image_config=image_config)\n",
    "#image = ContainerImage(workspace=ws, name=docker_image_name, version='2')\n",
    "image.wait_for_creation(show_output=True)"
   ]
  },
  {
   "cell_type": "markdown",
   "metadata": {},
   "source": [
    "## Deploy to Azure Container Instance as Web Service"
   ]
  },
  {
   "cell_type": "code",
   "execution_count": null,
   "metadata": {},
   "outputs": [],
   "source": [
    "from azureml.core.webservice import Webservice, AciWebservice\n",
    "\n",
    "webservice_name = 'your_webservice_name'\n",
    "\n",
    "aciconfig = AciWebservice.deploy_configuration(cpu_cores=1, \n",
    "                                               memory_gb=4, \n",
    "                                               tags={\"method\" : \"svm\"}, \n",
    "                                               description='image classification')\n",
    "#\n",
    "# if using existing image rather than the one built above\n",
    "# image = ContainerImage(workspace=ws, name=docker_image_name, version='#your_version')\n",
    "#\n",
    "service = Webservice.deploy_from_image(workspace=ws, \n",
    "                                       name=webservice_name, \n",
    "                                       image=image, \n",
    "                                       deployment_config=aciconfig)\n",
    "service.wait_for_deployment(show_output=True)\n",
    "print(service.scoring_uri)\n",
    "\n",
    "#\n",
    "# scoring_uri will be http://someip/score\n",
    "# Test the service by issuing a web request\n",
    "# http://someip/score?url=url_to_test_image\n",
    "#"
   ]
  },
  {
   "cell_type": "markdown",
   "metadata": {},
   "source": [
    "## Delete the Web Service"
   ]
  },
  {
   "cell_type": "code",
   "execution_count": null,
   "metadata": {},
   "outputs": [],
   "source": [
    "from azureml.core.webservice import Webservice, AciWebservice\n",
    "\n",
    "webservice_name = 'your_webservice_name'\n",
    "\n",
    "service = Webservice(workspace=ws, name=webservice_name)\n",
    "service.delete()\n"
   ]
  }
 ],
 "metadata": {
  "kernelspec": {
   "display_name": "Python 3",
   "language": "python",
   "name": "python3"
  },
  "language_info": {
   "codemirror_mode": {
    "name": "ipython",
    "version": 3
   },
   "file_extension": ".py",
   "mimetype": "text/x-python",
   "name": "python",
   "nbconvert_exporter": "python",
   "pygments_lexer": "ipython3",
   "version": "3.6.7"
  }
 },
 "nbformat": 4,
 "nbformat_minor": 2
}
