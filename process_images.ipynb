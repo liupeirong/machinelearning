{
 "cells": [
  {
   "cell_type": "code",
   "execution_count": null,
   "metadata": {},
   "outputs": [],
   "source": [
    "# this will load dependencies like utils.py if they change\n",
    "%load_ext autoreload\n",
    "%autoreload 2"
   ]
  },
  {
   "cell_type": "markdown",
   "metadata": {},
   "source": [
    "## Pick an image to transform"
   ]
  },
  {
   "cell_type": "code",
   "execution_count": null,
   "metadata": {},
   "outputs": [],
   "source": [
    "%matplotlib inline\n",
    "import matplotlib.pyplot as plt\n",
    "import matplotlib.image as mpimg\n",
    "from PIL import Image\n",
    "import os\n",
    "import numpy as np\n",
    "import utils\n",
    "\n",
    "imgfile = '/path/to/imagefile'\n",
    "img=mpimg.imread(imgfile)\n",
    "imgplot = plt.imshow(img)\n",
    "plt.show()"
   ]
  },
  {
   "cell_type": "markdown",
   "metadata": {},
   "source": [
    "## Normalize pixel intensity "
   ]
  },
  {
   "cell_type": "code",
   "execution_count": null,
   "metadata": {},
   "outputs": [],
   "source": [
    "im = Image.open(imgfile)\n",
    "norm_im_arr = utils.normalizeImg(im)\n",
    "norm_im = Image.fromarray(norm_im_arr.astype('uint8'),'RGB')\n",
    "\n",
    "plt.imshow(norm_im)\n",
    "plt.show"
   ]
  },
  {
   "cell_type": "code",
   "execution_count": null,
   "metadata": {},
   "outputs": [],
   "source": [
    "norm_im.mode"
   ]
  },
  {
   "cell_type": "code",
   "execution_count": null,
   "metadata": {},
   "outputs": [],
   "source": [
    "norm_im.size"
   ]
  },
  {
   "cell_type": "markdown",
   "metadata": {},
   "source": [
    "## Resize, keep ratio, and pad"
   ]
  },
  {
   "cell_type": "code",
   "execution_count": null,
   "metadata": {},
   "outputs": [],
   "source": [
    "target_size = 128\n",
    "\n",
    "new_im = utils.resizeImg(norm_im, target_size)\n",
    "\n",
    "plt.imshow(new_im)\n",
    "plt.show"
   ]
  },
  {
   "cell_type": "markdown",
   "metadata": {},
   "source": [
    "## Put it all together"
   ]
  },
  {
   "cell_type": "code",
   "execution_count": null,
   "metadata": {},
   "outputs": [],
   "source": [
    "#assuming raw image directory structure:\n",
    "# /path/to/raw_images/\n",
    "#                    /label1/imagefiles\n",
    "#                    /label2/imagefiles\n",
    "src = '/path/to/raw_images' \n",
    "#processed image directory structure:\n",
    "# /path/to/processed_images/\n",
    "#                    /label1/imagefiles\n",
    "#                    /label2/imagefiles  \n",
    "tgt = '/path/to/processed_images'\n",
    "\n",
    "utils.processAllImages(src, tgt)"
   ]
  },
  {
   "cell_type": "markdown",
   "metadata": {},
   "source": [
    "## Check processed images"
   ]
  },
  {
   "cell_type": "code",
   "execution_count": null,
   "metadata": {},
   "outputs": [],
   "source": [
    "category = 'label_of_interest'\n",
    "files = []\n",
    "tgtfolder = os.path.join(tgt, category)\n",
    "\n",
    "for (dirpath, dirnames, filenames) in os.walk(tgtfolder, topdown=False):\n",
    "    for filename in filenames:\n",
    "        file = os.path.join(dirpath, filename)\n",
    "        files.append(file)\n",
    "\n",
    "len(files)"
   ]
  },
  {
   "cell_type": "code",
   "execution_count": null,
   "metadata": {},
   "outputs": [],
   "source": [
    "index_begin = 0 #whatever index fits in the array\n",
    "index_end = index_begin+4 \n",
    "plt.rcParams['figure.figsize'] = (48,48)\n",
    "plt.figure()\n",
    "\n",
    "for pos, idx in zip(range(4), range(index_begin, index_end)):\n",
    "    plt.subplot(2,2,pos+1)\n",
    "    im_arr = np.load(files[idx])\n",
    "    plt.imshow(Image.fromarray(im_arr.astype('uint8'),'RGB'))\n",
    "    filename = files[idx].split('/')[-1]\n",
    "    plt.title(\"L:{}/{}\".format(category, filename), fontsize=28)   \n",
    "\n",
    "plt.tight_layout()"
   ]
  }
 ],
 "metadata": {
  "kernelspec": {
   "display_name": "Python 3",
   "language": "python",
   "name": "python3"
  },
  "language_info": {
   "codemirror_mode": {
    "name": "ipython",
    "version": 3
   },
   "file_extension": ".py",
   "mimetype": "text/x-python",
   "name": "python",
   "nbconvert_exporter": "python",
   "pygments_lexer": "ipython3",
   "version": "3.6.7"
  }
 },
 "nbformat": 4,
 "nbformat_minor": 2
}
